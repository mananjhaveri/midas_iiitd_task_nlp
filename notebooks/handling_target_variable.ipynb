{
 "cells": [
  {
   "cell_type": "code",
   "execution_count": 1,
   "id": "expanded-simon",
   "metadata": {},
   "outputs": [],
   "source": [
    "import pandas as pd\n",
    "import numpy as np\n",
    "import matplotlib.pyplot as plt"
   ]
  },
  {
   "cell_type": "code",
   "execution_count": 25,
   "id": "interstate-guide",
   "metadata": {},
   "outputs": [],
   "source": [
    "df = pd.read_csv(\"../data/data.csv\")"
   ]
  },
  {
   "cell_type": "code",
   "execution_count": 62,
   "id": "closing-paris",
   "metadata": {},
   "outputs": [],
   "source": [
    "untidy_categories = []\n",
    "d = {\"Sunglasses\": \"Eyewear\"}# \"Food & Nutrition\": \"Kitchen & Dining\", \"Household Supplies\": \"Home Improvement\"}\n",
    "\n",
    "mapping_untidy_categores = {\n",
    "    \"Pens & Stationery\": [\"paper\", \"sheets\", \"self stick\", \"notebook\", \"pen\"],\n",
    "    \"Clothing\": [\"kurta\", \"kurti\",\"stole\", \"dress\", \"shorts\", \"capri\", \"jeans\", \"top\", \"brief\", \"jumpsuit\", \"sleeve\", \"boxer\", \"leggings\", \"shirt\",\n",
    "                \"socks\", \"round neck\", \"bra\", \"polo neck\", \"jacket\", \"vest\", \"trouser\", \"pyjama\", \"camisole\", \"lingerie\", \"blazer\", \"bottom\",\n",
    "                \"sari\", \"cotton\", \"cufflink\", \"bangle\", \"hair clip\", \"hair band\", \"glove\", \"strap\"],\n",
    "    \"Home Furnishing\": [\"sofa cover\", \"mattress\", \"mat\", \"king size\", \"tapestry\", \"furnishing\", \n",
    "                        \"polyester\", \"single bed\", \"faucet\"],\n",
    "    \"music\": [\"sound mixer\", \"headset\"],\n",
    "    \"footwear\": [\"shoes\", \"flats\", \"wedges\", \"boot\", \"bellies\", \"foot\", \"toe\", \"lace up\", \"slippers\", \"abeez\"],\n",
    "    \"Bags, Wallets & Belts\": [\"clutch\", \"bag\", \"bug\"],\n",
    "    \"Eyewear\": [\"sunglasses\"],\n",
    "    \"Kitchen & Dining\": [\"table cover\", \"glass\", \"bowl\", \"ro water\"],\n",
    "    \"Sports & Fitness\": [\"thigh guard\"],\n",
    "    \"Beauty and Personal Care\": [\"nail\", \"nail cutter\", \"shampoo\", \"conditioner\", \"conditione\", \"brush\",\n",
    "                              \"shaving\", \"shaving kit\", \"hair\"],\n",
    "    \"Health and Personal Care Appliances\": [\"contamination\", \"wash your hands\"],\n",
    "    \"Jewellery\": [\"ring\", \"swarovski\", \"royal seal creation\"], \n",
    "    \"Toys & School Supplies\": [\"game\"], \n",
    "    \"Automotive\": [\"car\", \"shade\", \"bike\", \"speed\", \"wheel\", \"1 compartments\", \"vehicle\"],\n",
    "    \"Mobiles & Accessories\": [\"battery\", \"acer\", \"0mah\", \"tablet\", \"charging\", \"blackberry\"],\n",
    "    \"Home Decor & Festive Needs\": [\"plant\", \"candle\", \"showpiece\", \"incense\"],\n",
    "    \"Automation & Robotics\": [\"lock\", \"safe\"],\n",
    "    \"Home & Kitchen\": [\"bottle\"],\n",
    "    \"Food & Nutrition\": [\"seed\", \"herb\"],\n",
    "    \"Tools & Hardware\": [\"mcb\", \"workbench\", \"motion sensor\", \"pump\", \"usb\", \"binoculars\", \"work bench\", \"bino\"],\n",
    "    \"Baby Care\": [\"baby\"]\n",
    "}\n",
    "def clean_labels(x):\n",
    "    if \">>\" in x:\n",
    "        y = x.split(\">>\")[0].strip()[2:]\n",
    "        try:\n",
    "            return d[y]\n",
    "        except:\n",
    "            return y\n",
    "    else:\n",
    "        y = x.lower()\n",
    "        for k, v in mapping_untidy_categores.items():\n",
    "            for cats in v:\n",
    "                if cats in y:\n",
    "                    return k\n",
    "        untidy_categories.append(x)\n",
    "        return \"NONE\""
   ]
  },
  {
   "cell_type": "code",
   "execution_count": 63,
   "id": "complicated-algorithm",
   "metadata": {},
   "outputs": [],
   "source": [
    "df[\"category\"] = df[\"product_category_tree\"].apply(clean_labels)"
   ]
  },
  {
   "cell_type": "code",
   "execution_count": 64,
   "id": "latin-treatment",
   "metadata": {},
   "outputs": [
    {
     "data": {
      "text/plain": [
       "array(['Clothing', 'Furniture', 'Footwear', 'Pet Supplies',\n",
       "       'Pens & Stationery', 'Sports & Fitness',\n",
       "       'Beauty and Personal Care', 'Home Decor & Festive Needs',\n",
       "       'Bags, Wallets & Belts', 'Automotive', 'Tools & Hardware', 'music',\n",
       "       'Home Furnishing', 'Baby Care', 'Mobiles & Accessories',\n",
       "       'Food & Nutrition', 'Watches', 'Toys & School Supplies',\n",
       "       'Jewellery', 'footwear', 'Eyewear', 'Kitchen & Dining',\n",
       "       'Home & Kitchen', 'Computers', 'Cameras & Accessories',\n",
       "       'Health & Personal Care Appliances', 'Gaming', 'Home Improvement',\n",
       "       'Automation & Robotics', 'Home Entertainment',\n",
       "       'Wearable Smart Devices', 'eBooks', 'Household Supplies'],\n",
       "      dtype=object)"
      ]
     },
     "execution_count": 64,
     "metadata": {},
     "output_type": "execute_result"
    }
   ],
   "source": [
    "df[\"category\"].unique()"
   ]
  },
  {
   "cell_type": "code",
   "execution_count": 65,
   "id": "gothic-provision",
   "metadata": {},
   "outputs": [
    {
     "data": {
      "text/plain": [
       "Clothing                             6359\n",
       "Jewellery                            3541\n",
       "Footwear                             1227\n",
       "Mobiles & Accessories                1107\n",
       "Automotive                           1029\n",
       "Home Decor & Festive Needs            934\n",
       "Beauty and Personal Care              719\n",
       "Home Furnishing                       711\n",
       "Kitchen & Dining                      652\n",
       "Computers                             578\n",
       "Watches                               530\n",
       "Baby Care                             484\n",
       "Tools & Hardware                      402\n",
       "Toys & School Supplies                331\n",
       "Pens & Stationery                     322\n",
       "Bags, Wallets & Belts                 270\n",
       "Furniture                             180\n",
       "Sports & Fitness                      167\n",
       "Cameras & Accessories                  82\n",
       "Home Improvement                       81\n",
       "Eyewear                                67\n",
       "Health & Personal Care Appliances      43\n",
       "footwear                               42\n",
       "Gaming                                 35\n",
       "Pet Supplies                           30\n",
       "Home & Kitchen                         25\n",
       "Home Entertainment                     19\n",
       "eBooks                                 15\n",
       "Food & Nutrition                        5\n",
       "music                                   5\n",
       "Household Supplies                      4\n",
       "Automation & Robotics                   2\n",
       "Wearable Smart Devices                  2\n",
       "Name: category, dtype: int64"
      ]
     },
     "execution_count": 65,
     "metadata": {},
     "output_type": "execute_result"
    }
   ],
   "source": [
    "df[\"category\"].value_counts()"
   ]
  },
  {
   "cell_type": "code",
   "execution_count": 55,
   "id": "sustainable-check",
   "metadata": {},
   "outputs": [
    {
     "data": {
      "text/plain": [
       "[]"
      ]
     },
     "execution_count": 55,
     "metadata": {},
     "output_type": "execute_result"
    }
   ],
   "source": [
    "untidy_categories"
   ]
  },
  {
   "cell_type": "code",
   "execution_count": 66,
   "id": "charged-clarity",
   "metadata": {},
   "outputs": [
    {
     "data": {
      "text/plain": [
       "19249    Oswal Combo pack Kitchen Cleaner (500, Pack of...\n",
       "19314    Key Features of Whirlpool Affresh Stainless St...\n",
       "19322    Key Features of Whirlpool Affresh Cooktop Clea...\n",
       "19378    Key Features of Whirlpool Stainless steel Kitc...\n",
       "Name: description, dtype: object"
      ]
     },
     "execution_count": 66,
     "metadata": {},
     "output_type": "execute_result"
    }
   ],
   "source": [
    "df[df[\"category\"] == \"Household Supplies\"][\"description\"]"
   ]
  },
  {
   "cell_type": "code",
   "execution_count": null,
   "id": "comparable-stage",
   "metadata": {},
   "outputs": [],
   "source": []
  }
 ],
 "metadata": {
  "kernelspec": {
   "display_name": "Python 3",
   "language": "python",
   "name": "python3"
  },
  "language_info": {
   "codemirror_mode": {
    "name": "ipython",
    "version": 3
   },
   "file_extension": ".py",
   "mimetype": "text/x-python",
   "name": "python",
   "nbconvert_exporter": "python",
   "pygments_lexer": "ipython3",
   "version": "3.7.10"
  }
 },
 "nbformat": 4,
 "nbformat_minor": 5
}
