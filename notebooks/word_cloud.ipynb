{
 "cells": [
  {
   "cell_type": "code",
   "execution_count": 20,
   "id": "latter-investing",
   "metadata": {},
   "outputs": [],
   "source": [
    "import pandas as pd\n",
    "import numpy as np\n",
    "import matplotlib.pyplot as plt\n",
    "import wordcloud\n",
    "import joblib\n",
    "from PIL import Image"
   ]
  },
  {
   "cell_type": "code",
   "execution_count": 2,
   "id": "mighty-numbers",
   "metadata": {},
   "outputs": [],
   "source": [
    "df = pd.read_csv(\"../data/text.csv\")"
   ]
  },
  {
   "cell_type": "code",
   "execution_count": 11,
   "id": "accompanied-story",
   "metadata": {},
   "outputs": [],
   "source": [
    "enc = joblib.load(\"../models/label_encoder.bin\")"
   ]
  },
  {
   "cell_type": "code",
   "execution_count": 18,
   "id": "aquatic-berkeley",
   "metadata": {},
   "outputs": [],
   "source": [
    "text_cats = {}\n",
    "for i in range(len(df)):\n",
    "    cat = str(enc.inverse_transform([df[\"category\"].iloc[i]]).squeeze())\n",
    "    text_cats[cat] = text_cats.get(cat, \"\") + \" \" + df[\"description\"].iloc[i]"
   ]
  },
  {
   "cell_type": "code",
   "execution_count": 28,
   "id": "thermal-client",
   "metadata": {},
   "outputs": [],
   "source": [
    "def create_word_cloud(category, text):\n",
    "   cloud = wordcloud.WordCloud(background_color = \"white\", max_words = 200)\n",
    "   cloud.generate(text)\n",
    "   cloud.to_file(f\"../media/{category}.jpg\")"
   ]
  },
  {
   "cell_type": "code",
   "execution_count": 29,
   "id": "another-hypothetical",
   "metadata": {},
   "outputs": [],
   "source": [
    "for k, v in text_cats.items():\n",
    "    create_word_cloud(k, v)"
   ]
  },
  {
   "cell_type": "code",
   "execution_count": null,
   "id": "subject-worthy",
   "metadata": {},
   "outputs": [],
   "source": []
  }
 ],
 "metadata": {
  "kernelspec": {
   "display_name": "Python 3",
   "language": "python",
   "name": "python3"
  },
  "language_info": {
   "codemirror_mode": {
    "name": "ipython",
    "version": 3
   },
   "file_extension": ".py",
   "mimetype": "text/x-python",
   "name": "python",
   "nbconvert_exporter": "python",
   "pygments_lexer": "ipython3",
   "version": "3.7.10"
  }
 },
 "nbformat": 4,
 "nbformat_minor": 5
}
